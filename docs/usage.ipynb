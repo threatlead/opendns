{
 "cells": [
  {
   "cell_type": "markdown",
   "metadata": {
    "collapsed": true,
    "pycharm": {
     "name": "#%% md\n"
    }
   },
   "source": [
    "# OpenDNS Scraper\n",
    "\n",
    "## TLD list"
   ]
  },
  {
   "cell_type": "code",
   "execution_count": 1,
   "outputs": [
    {
     "name": "stdout",
     "text": [
      "[(1, 'com'),\n",
      " (2, 'net'),\n",
      " (3, 'googleapis.com'),\n",
      " (4, 'org'),\n",
      " (5, 'io'),\n",
      " (6, 'co'),\n",
      " (7, 'tv'),\n",
      " (8, 's3.amazonaws.com'),\n",
      " (9, 'ms'),\n",
      " (10, 'elb.amazonaws.com')]\n"
     ],
     "output_type": "stream"
    }
   ],
   "source": [
    "from pprint import pprint\n",
    "from opendns.opendns import OpenDns\n",
    "\n",
    "pprint(OpenDns.tld_list()[:10])"
   ],
   "metadata": {
    "collapsed": false,
    "pycharm": {
     "name": "#%%\n",
     "is_executing": false
    }
   }
  },
  {
   "cell_type": "markdown",
   "source": [
    "## Domain List"
   ],
   "metadata": {
    "collapsed": false,
    "pycharm": {
     "name": "#%% md\n"
    }
   }
  },
  {
   "cell_type": "code",
   "execution_count": 2,
   "outputs": [
    {
     "name": "stdout",
     "text": [
      "[(1, 'netflix.com'),\n",
      " (2, 'api-global.netflix.com'),\n",
      " (3, 'prod.netflix.com'),\n",
      " (4, 'push.prod.netflix.com'),\n",
      " (5, 'ftl.netflix.com'),\n",
      " (6, 'prod.ftl.netflix.com'),\n",
      " (7, 'ichnaea.netflix.com'),\n",
      " (8, 'nrdp.prod.ftl.netflix.com'),\n",
      " (9, 'google.com'),\n",
      " (10, 'microsoft.com')]\n"
     ],
     "output_type": "stream"
    }
   ],
   "source": [
    "pprint(OpenDns.domain_list()[:10])"
   ],
   "metadata": {
    "collapsed": false,
    "pycharm": {
     "name": "#%%\n",
     "is_executing": false
    }
   }
  }
 ],
 "metadata": {
  "kernelspec": {
   "display_name": "Python 3",
   "language": "python",
   "name": "python3"
  },
  "language_info": {
   "codemirror_mode": {
    "name": "ipython",
    "version": 2
   },
   "file_extension": ".py",
   "mimetype": "text/x-python",
   "name": "python",
   "nbconvert_exporter": "python",
   "pygments_lexer": "ipython2",
   "version": "2.7.6"
  },
  "pycharm": {
   "stem_cell": {
    "cell_type": "raw",
    "source": [],
    "metadata": {
     "collapsed": false
    }
   }
  }
 },
 "nbformat": 4,
 "nbformat_minor": 0
}